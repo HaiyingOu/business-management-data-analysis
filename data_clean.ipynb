{
  "nbformat": 4,
  "nbformat_minor": 0,
  "metadata": {
    "colab": {
      "provenance": []
    },
    "kernelspec": {
      "name": "python3",
      "display_name": "Python 3"
    },
    "language_info": {
      "name": "python"
    }
  },
  "cells": [
    {
      "cell_type": "markdown",
      "source": [],
      "metadata": {
        "id": "_FfXylB7KE1l"
      }
    },
    {
      "cell_type": "code",
      "source": [
        "import pandas as pd\n",
        "\n",
        "# 加载数据集\n",
        "df = pd.read_csv('/content/Business_Management_Dataset.csv')\n",
        "\n",
        "# 删除员工流失率为 0 的行\n",
        "df = df[df['Employee_Turnover'] != 0]\n",
        "\n",
        "# 将结果保存为csv文件\n",
        "csv_path = '/mnt/Business_Management_Dataset (1)_removed.csv'\n",
        "df.to_csv(csv_path)"
      ],
      "metadata": {
        "id": "eSHGAJuFLDCH"
      },
      "execution_count": 4,
      "outputs": []
    },
    {
      "cell_type": "code",
      "source": [
        "import pandas as pd\n",
        "\n",
        "# 读取之前处理后的CSV文件，这里请根据实际文件路径调整\n",
        "df = pd.read_csv('/mnt/Business_Management_Dataset (1)_removed.csv')\n",
        "\n",
        "# 删除培训时长（Training_Hours）为负数的行\n",
        "df = df[df['Training_Hours'] >= 0]\n",
        "\n",
        "# 将处理后的数据保存为新的CSV文件，路径可按需修改\n",
        "csv_path = '/mnt/Business_Management_Dataset (1)_final_processed.csv'\n",
        "df.to_csv(csv_path, index=False)"
      ],
      "metadata": {
        "id": "DG-kB-wkMCTD"
      },
      "execution_count": 5,
      "outputs": []
    },
    {
      "cell_type": "code",
      "source": [
        "import pandas as pd\n",
        "\n",
        "# 读取之前处理后的 CSV 文件\n",
        "df = pd.read_csv('/mnt/Business_Management_Dataset (1)_final_processed.csv')\n",
        "\n",
        "# 删除生产力大于 100 的行\n",
        "df = df[df['Productivity'] <= 100]\n",
        "\n",
        "# 保存处理后的文件\n",
        "csv_path = '/mnt/Business_Management_Dataset (1)_final_v2.csv'\n",
        "df.to_csv(csv_path, index=False)"
      ],
      "metadata": {
        "id": "INJ-HmY1Nv8V"
      },
      "execution_count": 6,
      "outputs": []
    },
    {
      "cell_type": "code",
      "source": [
        "import pandas as pd\n",
        "\n",
        "# 读取之前处理后的CSV文件\n",
        "df = pd.read_csv('/mnt/Business_Management_Dataset (1)_final_v2.csv')\n",
        "\n",
        "# 删除年销售额（Annual_Sales）为负数的行\n",
        "df = df[df['Annual_Sales'] >= 0]\n",
        "\n",
        "# 将处理后的数据保存为新的CSV文件，路径可按需修改\n",
        "csv_path = '/mnt/Business_Management_Dataset (1)_final_v3.csv'\n",
        "df.to_csv(csv_path, index=False)"
      ],
      "metadata": {
        "id": "L7RQTqePPIau"
      },
      "execution_count": 7,
      "outputs": []
    },
    {
      "cell_type": "code",
      "source": [
        "import pandas as pd\n",
        "\n",
        "# 读取之前处理后的 CSV 文件\n",
        "file_path = '/mnt/Business_Management_Dataset (1)_final_v3.csv'\n",
        "df = pd.read_csv(file_path)\n",
        "\n",
        "# 删除市场份额为 0 的行\n",
        "df = df[df['Market_Share'] != 0]\n",
        "\n",
        "# 保存处理后的文件\n",
        "new_file_path = '/mnt/Business_Management_Dataset (1)_final_v4.csv'\n",
        "df.to_csv(new_file_path, index=False)"
      ],
      "metadata": {
        "id": "WhyISTT7nEMu"
      },
      "execution_count": 8,
      "outputs": []
    },
    {
      "cell_type": "code",
      "source": [
        "from google.colab import files\n",
        "\n",
        "# 定义之前处理好的文件路径\n",
        "file_path = '/mnt/Business_Management_Dataset (1)_final_v4.csv'\n",
        "\n",
        "# 执行文件下载操作\n",
        "files.download(file_path)"
      ],
      "metadata": {
        "colab": {
          "base_uri": "https://localhost:8080/",
          "height": 17
        },
        "id": "zgoi6T_coPez",
        "outputId": "d9933d3f-cbec-40b8-9923-78c9a8ac524b"
      },
      "execution_count": 10,
      "outputs": [
        {
          "output_type": "display_data",
          "data": {
            "text/plain": [
              "<IPython.core.display.Javascript object>"
            ],
            "application/javascript": [
              "\n",
              "    async function download(id, filename, size) {\n",
              "      if (!google.colab.kernel.accessAllowed) {\n",
              "        return;\n",
              "      }\n",
              "      const div = document.createElement('div');\n",
              "      const label = document.createElement('label');\n",
              "      label.textContent = `Downloading \"${filename}\": `;\n",
              "      div.appendChild(label);\n",
              "      const progress = document.createElement('progress');\n",
              "      progress.max = size;\n",
              "      div.appendChild(progress);\n",
              "      document.body.appendChild(div);\n",
              "\n",
              "      const buffers = [];\n",
              "      let downloaded = 0;\n",
              "\n",
              "      const channel = await google.colab.kernel.comms.open(id);\n",
              "      // Send a message to notify the kernel that we're ready.\n",
              "      channel.send({})\n",
              "\n",
              "      for await (const message of channel.messages) {\n",
              "        // Send a message to notify the kernel that we're ready.\n",
              "        channel.send({})\n",
              "        if (message.buffers) {\n",
              "          for (const buffer of message.buffers) {\n",
              "            buffers.push(buffer);\n",
              "            downloaded += buffer.byteLength;\n",
              "            progress.value = downloaded;\n",
              "          }\n",
              "        }\n",
              "      }\n",
              "      const blob = new Blob(buffers, {type: 'application/binary'});\n",
              "      const a = document.createElement('a');\n",
              "      a.href = window.URL.createObjectURL(blob);\n",
              "      a.download = filename;\n",
              "      div.appendChild(a);\n",
              "      a.click();\n",
              "      div.remove();\n",
              "    }\n",
              "  "
            ]
          },
          "metadata": {}
        },
        {
          "output_type": "display_data",
          "data": {
            "text/plain": [
              "<IPython.core.display.Javascript object>"
            ],
            "application/javascript": [
              "download(\"download_38c6924f-8dce-411c-a6d5-9d6e09d5d10b\", \"Business_Management_Dataset (1)_final_v4.csv\", 1376880)"
            ]
          },
          "metadata": {}
        }
      ]
    }
  ]
}
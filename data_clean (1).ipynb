{
  "nbformat": 4,
  "nbformat_minor": 0,
  "metadata": {
    "colab": {
      "provenance": []
    },
    "kernelspec": {
      "name": "python3",
      "display_name": "Python 3"
    },
    "language_info": {
      "name": "python"
    }
  },
  "cells": [
    {
      "cell_type": "markdown",
      "source": [],
      "metadata": {
        "id": "_FfXylB7KE1l"
      }
    },
    {
      "cell_type": "code",
      "source": [
        "import pandas as pd\n",
        "\n",
        "# Load the dataset\n",
        "df = pd.read_csv('/content/Business_Management_Dataset.csv')\n",
        "\n",
        "# Delete rows where the employee turnover rate is 0\n",
        "df = df[df['Employee_Turnover'] != 0]\n",
        "\n",
        "# Save the result as a CSV file\n",
        "csv_path = '/mnt/Business_Management_Dataset (1)_removed.csv'\n",
        "df.to_csv(csv_path)"
      ],
      "metadata": {
        "id": "eSHGAJuFLDCH"
      },
      "execution_count": 2,
      "outputs": []
    },
    {
      "cell_type": "code",
      "source": [
        "import pandas as pd\n",
        "\n",
        "# Read the previously processed CSV file. Please adjust the file path according to the actual situation.\n",
        "df = pd.read_csv('/mnt/Business_Management_Dataset (1)_removed.csv')\n",
        "\n",
        "# Delete rows where the training hours (Training_Hours) are negative.\n",
        "df = df[df['Training_Hours'] >= 0]\n",
        "\n",
        "# Save the processed data as a new CSV file. You can modify the path as needed.\n",
        "csv_path = '/mnt/Business_Management_Dataset (1)_final_processed.csv'\n",
        "df.to_csv(csv_path, index=False)"
      ],
      "metadata": {
        "id": "DG-kB-wkMCTD"
      },
      "execution_count": 3,
      "outputs": []
    },
    {
      "cell_type": "code",
      "source": [
        "import pandas as pd\n",
        "\n",
        "# Read the previously processed CSV file\n",
        "df = pd.read_csv('/mnt/Business_Management_Dataset (1)_final_processed.csv')\n",
        "\n",
        "# Delete rows where the productivity is greater than 100\n",
        "df = df[df['Productivity'] <= 100]\n",
        "\n",
        "# Save the processed file\n",
        "csv_path = '/mnt/Business_Management_Dataset (1)_final_v2.csv'\n",
        "df.to_csv(csv_path, index=False)"
      ],
      "metadata": {
        "id": "INJ-HmY1Nv8V"
      },
      "execution_count": 4,
      "outputs": []
    },
    {
      "cell_type": "code",
      "source": [
        "import pandas as pd\n",
        "\n",
        "# Read the previously processed CSV file\n",
        "df = pd.read_csv('/mnt/Business_Management_Dataset (1)_final_v2.csv')\n",
        "\n",
        "# Delete rows where the annual sales (Annual_Sales) are negative\n",
        "df = df[df['Annual_Sales'] >= 0]\n",
        "\n",
        "# Save the processed data as a new CSV file. The path can be modified as needed.\n",
        "csv_path = '/mnt/Business_Management_Dataset (1)_final_v3.csv'\n",
        "df.to_csv(csv_path, index=False)"
      ],
      "metadata": {
        "id": "L7RQTqePPIau"
      },
      "execution_count": 5,
      "outputs": []
    },
    {
      "cell_type": "code",
      "source": [
        "import pandas as pd\n",
        "\n",
        "# Read the previously processed CSV file\n",
        "file_path = '/mnt/Business_Management_Dataset (1)_final_v3.csv'\n",
        "df = pd.read_csv(file_path)\n",
        "\n",
        "# Delete rows where the market share is 0\n",
        "df = df[df['Market_Share'] != 0]\n",
        "\n",
        "# Save the processed file\n",
        "new_file_path = '/mnt/Business_Management_Dataset (1)_final_v4.csv'\n",
        "df.to_csv(new_file_path, index=False)"
      ],
      "metadata": {
        "id": "WhyISTT7nEMu"
      },
      "execution_count": 6,
      "outputs": []
    },
    {
      "cell_type": "code",
      "source": [
        "from google.colab import files\n",
        "\n",
        "# Define the path of the previously processed file\n",
        "file_path = '/mnt/Business_Management_Dataset (1)_final_v4.csv'\n",
        "\n",
        "# Perform the file download operation\n",
        "files.download(file_path)"
      ],
      "metadata": {
        "colab": {
          "base_uri": "https://localhost:8080/",
          "height": 17
        },
        "id": "zgoi6T_coPez",
        "outputId": "0853b72b-6054-4e9a-ddc8-eec79530f612"
      },
      "execution_count": 7,
      "outputs": [
        {
          "output_type": "display_data",
          "data": {
            "text/plain": [
              "<IPython.core.display.Javascript object>"
            ],
            "application/javascript": [
              "\n",
              "    async function download(id, filename, size) {\n",
              "      if (!google.colab.kernel.accessAllowed) {\n",
              "        return;\n",
              "      }\n",
              "      const div = document.createElement('div');\n",
              "      const label = document.createElement('label');\n",
              "      label.textContent = `Downloading \"${filename}\": `;\n",
              "      div.appendChild(label);\n",
              "      const progress = document.createElement('progress');\n",
              "      progress.max = size;\n",
              "      div.appendChild(progress);\n",
              "      document.body.appendChild(div);\n",
              "\n",
              "      const buffers = [];\n",
              "      let downloaded = 0;\n",
              "\n",
              "      const channel = await google.colab.kernel.comms.open(id);\n",
              "      // Send a message to notify the kernel that we're ready.\n",
              "      channel.send({})\n",
              "\n",
              "      for await (const message of channel.messages) {\n",
              "        // Send a message to notify the kernel that we're ready.\n",
              "        channel.send({})\n",
              "        if (message.buffers) {\n",
              "          for (const buffer of message.buffers) {\n",
              "            buffers.push(buffer);\n",
              "            downloaded += buffer.byteLength;\n",
              "            progress.value = downloaded;\n",
              "          }\n",
              "        }\n",
              "      }\n",
              "      const blob = new Blob(buffers, {type: 'application/binary'});\n",
              "      const a = document.createElement('a');\n",
              "      a.href = window.URL.createObjectURL(blob);\n",
              "      a.download = filename;\n",
              "      div.appendChild(a);\n",
              "      a.click();\n",
              "      div.remove();\n",
              "    }\n",
              "  "
            ]
          },
          "metadata": {}
        },
        {
          "output_type": "display_data",
          "data": {
            "text/plain": [
              "<IPython.core.display.Javascript object>"
            ],
            "application/javascript": [
              "download(\"download_258d8b4e-a1f6-46ad-b39e-391fd269d1b2\", \"Business_Management_Dataset (1)_final_v4.csv\", 1375043)"
            ]
          },
          "metadata": {}
        }
      ]
    }
  ]
}